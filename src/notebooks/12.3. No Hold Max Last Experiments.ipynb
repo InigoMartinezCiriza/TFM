{
 "cells": [
  {
   "cell_type": "markdown",
   "id": "fa302ebf",
   "metadata": {},
   "source": [
    "# RNN PARTIAL 3, 2, 4, 4"
   ]
  },
  {
   "cell_type": "code",
   "execution_count": 1,
   "id": "d80217b7",
   "metadata": {},
   "outputs": [
    {
     "name": "stderr",
     "output_type": "stream",
     "text": [
      "2025-05-22 09:09:42.968231: E external/local_xla/xla/stream_executor/cuda/cuda_fft.cc:467] Unable to register cuFFT factory: Attempting to register factory for plugin cuFFT when one has already been registered\n",
      "WARNING: All log messages before absl::InitializeLog() is called are written to STDERR\n",
      "E0000 00:00:1747897783.002402   76552 cuda_dnn.cc:8579] Unable to register cuDNN factory: Attempting to register factory for plugin cuDNN when one has already been registered\n",
      "E0000 00:00:1747897783.012239   76552 cuda_blas.cc:1407] Unable to register cuBLAS factory: Attempting to register factory for plugin cuBLAS when one has already been registered\n",
      "W0000 00:00:1747897783.034862   76552 computation_placer.cc:177] computation placer already registered. Please check linkage and avoid linking the same target more than once.\n",
      "W0000 00:00:1747897783.034905   76552 computation_placer.cc:177] computation placer already registered. Please check linkage and avoid linking the same target more than once.\n",
      "W0000 00:00:1747897783.034908   76552 computation_placer.cc:177] computation placer already registered. Please check linkage and avoid linking the same target more than once.\n",
      "W0000 00:00:1747897783.034909   76552 computation_placer.cc:177] computation placer already registered. Please check linkage and avoid linking the same target more than once.\n",
      "2025-05-22 09:09:43.041441: I tensorflow/core/platform/cpu_feature_guard.cc:210] This TensorFlow binary is optimized to use available CPU instructions in performance-critical operations.\n",
      "To enable the following instructions: AVX2 FMA, in other operations, rebuild TensorFlow with the appropriate compiler flags.\n"
     ]
    },
    {
     "name": "stdout",
     "output_type": "stream",
     "text": [
      "Added '/mnt/c/Users/imcir/Desktop/CIENCIA DATOS/Segundo cuatrimestre/TFM/Código/Modules' to sys.path\n",
      "Setup Complete.\n"
     ]
    }
   ],
   "source": [
    "# --- Imports ---\n",
    "import os\n",
    "import sys\n",
    "import random\n",
    "import pickle\n",
    "import gymnasium as gym\n",
    "import tensorflow as tf\n",
    "import numpy as np\n",
    "import matplotlib.pyplot as plt\n",
    "import pandas as pd\n",
    "from pathlib import Path\n",
    "\n",
    "# --- GPU Configuration ---\n",
    "os.environ[\"CUDA_VISIBLE_DEVICES\"] = \"-1\"\n",
    "\n",
    "# --- Add Modules directory to Python path ---\n",
    "module_path = os.path.abspath(os.path.join('.', 'Modules'))\n",
    "\n",
    "if module_path not in sys.path:\n",
    "    sys.path.append(module_path)\n",
    "    print(f\"Added '{module_path}' to sys.path\")\n",
    "else:\n",
    "    print(f\"'{module_path}' already in sys.path\")\n",
    "\n",
    "# --- Import custom modules ---\n",
    "from env_economic_choice_no_hold_partial import EconomicChoiceEnv\n",
    "from actor_critic_song import ActorCriticAgent\n",
    "from reinforce_song import train_agent\n",
    "from helper_functions import plot_metrics, plot_firing_rates, plot_psychometric_curve, load_model, save_model, validate_agent, load_model_for_validation\n",
    "\n",
    "# --- Set Random Seeds ---\n",
    "seed_value = 1\n",
    "np.random.seed(seed_value)\n",
    "tf.random.set_seed(seed_value)\n",
    "random.seed(seed_value)\n",
    "\n",
    "print(\"Setup Complete.\")"
   ]
  },
  {
   "cell_type": "code",
   "execution_count": 2,
   "id": "660ed24d",
   "metadata": {},
   "outputs": [
    {
     "name": "stdout",
     "output_type": "stream",
     "text": [
      "Configuration loaded:\n",
      "  dt: 10\n",
      "  A_to_B_ratio: 2.2\n",
      "  reward_B: 1\n",
      "  abort_penalty: -0.1\n",
      "  input_noise_sigma: 0.0\n",
      "  reward_fixation: 0.01\n",
      "  reward_go_fixation: -0.01\n",
      "  duration_params: [10, 10, 20, 20]\n",
      "  actor_hidden_size: 50\n",
      "  critic_hidden_size: 50\n",
      "  actor_layers: 1\n",
      "  critic_layers: 1\n",
      "  layer_type: GRU_modified\n",
      "  actor_prob_connection: 0.1\n",
      "  critic_prob_connection: 1.0\n",
      "  actor_lr: 0.004\n",
      "  critic_lr: 0.004\n",
      "  num_episodes: 1000\n",
      "  gamma: 1.0\n",
      "  l2_actor: 0.0001\n",
      "  l2_critic: 0.0001\n",
      "  print_interval: 100\n",
      "  record_history: 1\n",
      "Creating Padoa-Schioppa environment...\n",
      "Observation size: 4, Action size: 3\n",
      "Initializing Actor-Critic Agent...\n"
     ]
    },
    {
     "name": "stderr",
     "output_type": "stream",
     "text": [
      "2025-05-22 09:10:31.784595: E external/local_xla/xla/stream_executor/cuda/cuda_platform.cc:51] failed call to cuInit: INTERNAL: CUDA error: Failed call to cuInit: CUDA_ERROR_NO_DEVICE: no CUDA-capable device is detected\n"
     ]
    },
    {
     "name": "stdout",
     "output_type": "stream",
     "text": [
      "Agent Initialized.\n",
      "Starting validation for 1000 episodes...\n",
      "Modelo restaurado desde checkpoints/rnn_nohold_partial_min_3244/ckpt-1\n"
     ]
    },
    {
     "ename": "TypeError",
     "evalue": "validate_agent() got an unexpected keyword argument 'num_episodes'",
     "output_type": "error",
     "traceback": [
      "\u001b[31m---------------------------------------------------------------------------\u001b[39m",
      "\u001b[31mTypeError\u001b[39m                                 Traceback (most recent call last)",
      "\u001b[36mCell\u001b[39m\u001b[36m \u001b[39m\u001b[32mIn[2]\u001b[39m\u001b[32m, line 88\u001b[39m\n\u001b[32m     85\u001b[39m     \u001b[38;5;28mprint\u001b[39m(\u001b[33m\"\u001b[39m\u001b[33mEnvironment closed.\u001b[39m\u001b[33m\"\u001b[39m)\n\u001b[32m     87\u001b[39m \u001b[38;5;28;01mif\u001b[39;00m \u001b[34m__name__\u001b[39m == \u001b[33m'\u001b[39m\u001b[33m__main__\u001b[39m\u001b[33m'\u001b[39m:\n\u001b[32m---> \u001b[39m\u001b[32m88\u001b[39m     \u001b[43mmain\u001b[49m\u001b[43m(\u001b[49m\u001b[43m)\u001b[49m\n",
      "\u001b[36mCell\u001b[39m\u001b[36m \u001b[39m\u001b[32mIn[2]\u001b[39m\u001b[32m, line 74\u001b[39m, in \u001b[36mmain\u001b[39m\u001b[34m()\u001b[39m\n\u001b[32m     72\u001b[39m \u001b[38;5;28mprint\u001b[39m(\u001b[33mf\u001b[39m\u001b[33m\"\u001b[39m\u001b[33mStarting validation for \u001b[39m\u001b[38;5;132;01m{\u001b[39;00mconfig[\u001b[33m'\u001b[39m\u001b[33mnum_episodes\u001b[39m\u001b[33m'\u001b[39m]\u001b[38;5;132;01m}\u001b[39;00m\u001b[33m episodes...\u001b[39m\u001b[33m\"\u001b[39m)\n\u001b[32m     73\u001b[39m load_model_for_validation(agent, ckpt_dir)\n\u001b[32m---> \u001b[39m\u001b[32m74\u001b[39m total_rewards_history, measurements_juices, actor_firing_rates, critic_firing_rates = \u001b[43mvalidate_agent\u001b[49m\u001b[43m(\u001b[49m\u001b[43menv\u001b[49m\u001b[43m,\u001b[49m\u001b[43m \u001b[49m\u001b[43magent\u001b[49m\u001b[43m,\u001b[49m\u001b[43m \u001b[49m\u001b[43mnum_episodes\u001b[49m\u001b[43m=\u001b[49m\u001b[43mconfig\u001b[49m\u001b[43m[\u001b[49m\u001b[33;43m'\u001b[39;49m\u001b[33;43mnum_episodes\u001b[39;49m\u001b[33;43m'\u001b[39;49m\u001b[43m]\u001b[49m\u001b[43m)\u001b[49m\n\u001b[32m     75\u001b[39m \u001b[38;5;28mprint\u001b[39m(\u001b[33m\"\u001b[39m\u001b[38;5;130;01m\\n\u001b[39;00m\u001b[33mValidation finished.\u001b[39m\u001b[33m\"\u001b[39m)\n\u001b[32m     77\u001b[39m plot_psychometric_curve(\n\u001b[32m     78\u001b[39m     measurements_juices,\n\u001b[32m     79\u001b[39m     title=\u001b[33m\"\u001b[39m\u001b[33mPsychometric Curve Stage 1\u001b[39m\u001b[33m\"\u001b[39m\n\u001b[32m     80\u001b[39m )\n",
      "\u001b[31mTypeError\u001b[39m: validate_agent() got an unexpected keyword argument 'num_episodes'"
     ]
    }
   ],
   "source": [
    "def main():\n",
    "    # --- Validation Configuration ---\n",
    "    config = {\n",
    "        # Environment params\n",
    "        \"dt\": 10,\n",
    "        \"A_to_B_ratio\": 2.2,\n",
    "        \"reward_B\": 1,\n",
    "        \"abort_penalty\": -0.1,\n",
    "        \"input_noise_sigma\": 0.0,\n",
    "        \"reward_fixation\": 0.01,\n",
    "        \"reward_go_fixation\": -0.01,\n",
    "        \"duration_params\": [10, 10, 20, 20],\n",
    "        # Agent architecture\n",
    "        \"actor_hidden_size\": 50,\n",
    "        \"critic_hidden_size\": 50,\n",
    "        \"actor_layers\": 1,\n",
    "        \"critic_layers\": 1,\n",
    "        \"layer_type\": \"GRU_modified\",\n",
    "        \"actor_prob_connection\": 0.1,\n",
    "        \"critic_prob_connection\": 1.0,\n",
    "        # Training hyperparams\n",
    "        \"actor_lr\": 4e-3,\n",
    "        \"critic_lr\": 4e-3,\n",
    "        \"num_episodes\": 1000,\n",
    "        \"gamma\": 1.0,\n",
    "        \"l2_actor\": 1e-4,\n",
    "        \"l2_critic\": 1e-4,\n",
    "        # Training process\n",
    "        \"print_interval\": 100,\n",
    "        \"record_history\": 1\n",
    "    }\n",
    "\n",
    "    print(\"Configuration loaded:\")\n",
    "    for key, value in config.items():\n",
    "        print(f\"  {key}: {value}\")\n",
    "\n",
    "    # --- Environment Setup ---\n",
    "    print(\"Creating Padoa-Schioppa environment...\")\n",
    "    env = EconomicChoiceEnv(\n",
    "        dt=config[\"dt\"],\n",
    "        A_to_B_ratio=config[\"A_to_B_ratio\"],\n",
    "        reward_B=config[\"reward_B\"],\n",
    "        abort_penalty=config[\"abort_penalty\"],\n",
    "        input_noise_sigma=config[\"input_noise_sigma\"],\n",
    "        reward_fixation=config[\"reward_fixation\"],\n",
    "        reward_go_fixation=config[\"reward_go_fixation\"],\n",
    "        duration_params=config[\"duration_params\"]\n",
    "    )\n",
    "    obs_size = env.observation_space.shape[0]\n",
    "    act_size = env.action_space.n\n",
    "    print(f\"Observation size: {obs_size}, Action size: {act_size}\")\n",
    "\n",
    "    # --- Agent Setup ---\n",
    "    print(\"Initializing Actor-Critic Agent...\")\n",
    "    agent = ActorCriticAgent(\n",
    "        obs_size=obs_size,\n",
    "        act_size=act_size,\n",
    "        actor_hidden_size=config[\"actor_hidden_size\"],\n",
    "        critic_hidden_size=config[\"critic_hidden_size\"],\n",
    "        actor_layers=config[\"actor_layers\"],\n",
    "        critic_layers=config[\"critic_layers\"],\n",
    "        actor_lr=config[\"actor_lr\"],\n",
    "        critic_lr=config[\"critic_lr\"],\n",
    "        actor_prob_connection=config[\"actor_prob_connection\"],\n",
    "        critic_prob_connection=config[\"critic_prob_connection\"],\n",
    "        layer_type=config[\"layer_type\"]\n",
    "    )\n",
    "    print(\"Agent Initialized.\")\n",
    "\n",
    "    # --- Validation ---\n",
    "    ckpt_dir = 'checkpoints/rnn_nohold_partial_min_3244'\n",
    "    print(f\"Starting validation for {config['num_episodes']} episodes...\")\n",
    "    load_model_for_validation(agent, ckpt_dir)\n",
    "    total_rewards_history, measurements_juices, actor_firing_rates, critic_firing_rates = validate_agent(env, agent, num_episodes=config['num_episodes'])\n",
    "    print(\"\\nValidation finished.\")\n",
    "\n",
    "    plot_psychometric_curve(\n",
    "        measurements_juices,\n",
    "        title=\"Psychometric Curve Stage 1\"\n",
    "    )\n",
    "\n",
    "    # --- Close Environment ---\n",
    "    print(\"Closing the environment...\")\n",
    "    env.close()\n",
    "    print(\"Environment closed.\")\n",
    "\n",
    "if __name__ == '__main__':\n",
    "    main()"
   ]
  }
 ],
 "metadata": {
  "kernelspec": {
   "display_name": "cienciadatosenv",
   "language": "python",
   "name": "python3"
  },
  "language_info": {
   "codemirror_mode": {
    "name": "ipython",
    "version": 3
   },
   "file_extension": ".py",
   "mimetype": "text/x-python",
   "name": "python",
   "nbconvert_exporter": "python",
   "pygments_lexer": "ipython3",
   "version": "3.12.3"
  }
 },
 "nbformat": 4,
 "nbformat_minor": 5
}
